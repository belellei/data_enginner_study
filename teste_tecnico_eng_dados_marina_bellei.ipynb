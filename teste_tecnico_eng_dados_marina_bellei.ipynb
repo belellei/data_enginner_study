{
  "nbformat": 4,
  "nbformat_minor": 0,
  "metadata": {
    "colab": {
      "provenance": [],
      "toc_visible": true,
      "gpuType": "T4",
      "authorship_tag": "ABX9TyMdFXo5MFumPYtPGQ4mk5Xa",
      "include_colab_link": true
    },
    "kernelspec": {
      "name": "python3",
      "display_name": "Python 3"
    },
    "language_info": {
      "name": "python"
    },
    "accelerator": "GPU"
  },
  "cells": [
    {
      "cell_type": "markdown",
      "metadata": {
        "id": "view-in-github",
        "colab_type": "text"
      },
      "source": [
        "<a href=\"https://colab.research.google.com/github/belellei/data_enginner_study/blob/main/teste_tecnico_eng_dados_marina_bellei.ipynb\" target=\"_parent\"><img src=\"https://colab.research.google.com/assets/colab-badge.svg\" alt=\"Open In Colab\"/></a>"
      ]
    },
    {
      "cell_type": "markdown",
      "source": [
        "# SQL"
      ],
      "metadata": {
        "id": "cWe5aYq-uKpG"
      }
    },
    {
      "cell_type": "markdown",
      "source": [
        "Com base nas tabelas: ori_lancamentos, ori_historico, ori_cooperativa e ori_canal, desenvolva exemplos de scripts para cada um dos itens abaixo, utilizando as tabelas fornecidas no item 1.1:\n",
        "\n",
        "a. Where\n",
        "\n",
        "b. Having\n",
        "\n",
        "c. Like ou Not like\n",
        "\n",
        "d. In ou Not in\n",
        "\n",
        "e. And e Or\n",
        "\n",
        "f. Exists ou Not Exists\n",
        "\n",
        "g. Group By e Order by\n",
        "\n",
        "h. Union\n",
        "\n",
        "i. Intersect e Minus\n",
        "\n",
        "j. Distinct\n",
        "\n",
        "k. With\n",
        "\n",
        "l. Sum, Min e Max\n",
        "\n",
        "m. Update\n",
        "\n",
        "n. Delete"
      ],
      "metadata": {
        "id": "NunZmrhmuI_O"
      }
    },
    {
      "cell_type": "code",
      "source": [
        "# Importar bibliotecas\n",
        "import csv\n",
        "import pandas as pd\n",
        "from datetime import datetime\n",
        "from pyspark.sql import SparkSession\n",
        "from pyspark.sql.types import StructType, StructField, StringType, IntegerType, DoubleType\n",
        "from pyspark.sql.functions import avg, col, sum, count, desc"
      ],
      "metadata": {
        "id": "4iE6drmRvsuR"
      },
      "execution_count": 471,
      "outputs": []
    },
    {
      "cell_type": "code",
      "source": [
        "# Inicializar uma sessão do Spark\n",
        "spark = SparkSession.builder \\\n",
        "    .appName(\"SQL_Tables\") \\\n",
        "    .getOrCreate()\n"
      ],
      "metadata": {
        "id": "WeczXq6Jq9PS"
      },
      "execution_count": 472,
      "outputs": []
    },
    {
      "cell_type": "code",
      "source": [
        "# Listar arquivos na pasta atual\n",
        "csv_files = [f for f in os.listdir('/content') if f.endswith('.csv')]\n",
        "print(f\"Arquivos csv encontrados: {csv_files}\")"
      ],
      "metadata": {
        "colab": {
          "base_uri": "https://localhost:8080/"
        },
        "id": "hS6kkvJFwglF",
        "outputId": "84410357-46c7-496f-89ec-3287ba0025fe"
      },
      "execution_count": 473,
      "outputs": [
        {
          "output_type": "stream",
          "name": "stdout",
          "text": [
            "Arquivos csv encontrados: ['ori_historico.csv', 'ori_canal.csv', 'ori_cooperativa.csv', 'ori_lancamentos.csv']\n"
          ]
        }
      ]
    },
    {
      "cell_type": "code",
      "source": [
        "# Definir o caminho dos arquivos\n",
        "file_paths = {\n",
        "    \"ori_canal\": \"/content/ori_canal.csv\",\n",
        "    \"ori_cooperativa\": \"/content/ori_cooperativa.csv\",\n",
        "    \"ori_historico\": \"/content/ori_historico.csv\",\n",
        "    \"ori_lancamentos\": \"/content/ori_lancamentos.csv\"\n",
        "}"
      ],
      "metadata": {
        "id": "xJY8P9-6w7gr"
      },
      "execution_count": 474,
      "outputs": []
    },
    {
      "cell_type": "code",
      "source": [
        "# Função para detectar o separador automaticamente\n",
        "def detect_separator(file_path):\n",
        "    try:\n",
        "        with open(file_path, \"r\", encoding=\"utf-8\") as file:\n",
        "            sample = file.readline()  # Lê a primeira linha do arquivo\n",
        "            possible_separators = [\",\", \";\", \"\\t\", \"|\"]\n",
        "            detected_separator = max(possible_separators, key=lambda sep: sample.count(sep))\n",
        "            return detected_separator\n",
        "    except Exception as e:\n",
        "        return str(e)\n",
        "\n",
        "# Dicionário para armazenar os DataFrames\n",
        "dfs = {}"
      ],
      "metadata": {
        "id": "ff4SK12LyDeZ"
      },
      "execution_count": 475,
      "outputs": []
    },
    {
      "cell_type": "code",
      "source": [
        "# Carregar os arquivos com o separador correto\n",
        "for name, path in file_paths.items():\n",
        "    detected_sep = detect_separator(path)  # Detectar o separador automaticamente\n",
        "\n",
        "    if isinstance(detected_sep, str) and \"Errno\" in detected_sep:\n",
        "        print(f\"Erro ao detectar separador de {name}: {detected_sep}\")\n",
        "        continue\n",
        "\n",
        "    try:\n",
        "        df = pd.read_csv(path, header=0, sep=detected_sep, encoding=\"utf-8\")  # Carregar CSV com o separador detectado\n",
        "        dfs[name] = df\n",
        "        print(f\"Arquivo {name} carregado com sucesso! Separador detectado: '{detected_sep}'\")\n",
        "    except Exception as e:\n",
        "        print(f\"Erro ao carregar {name}: {e}\")"
      ],
      "metadata": {
        "colab": {
          "base_uri": "https://localhost:8080/"
        },
        "id": "fepx5eQwJVY9",
        "outputId": "3175d0b5-b8c5-4fe4-d8e5-d086c0f5659d"
      },
      "execution_count": 476,
      "outputs": [
        {
          "output_type": "stream",
          "name": "stdout",
          "text": [
            "Arquivo ori_canal carregado com sucesso! Separador detectado: ';'\n",
            "Arquivo ori_cooperativa carregado com sucesso! Separador detectado: ';'\n",
            "Arquivo ori_historico carregado com sucesso! Separador detectado: ';'\n",
            "Arquivo ori_lancamentos carregado com sucesso! Separador detectado: ';'\n"
          ]
        }
      ]
    },
    {
      "cell_type": "code",
      "source": [
        "# Converter os arquivos CSV diretamente para DataFrames Spark\n",
        "spark_dfs = {}\n",
        "\n",
        "for name, path in file_paths.items():\n",
        "    try:\n",
        "        # Detectar separador automaticamente\n",
        "        detected_sep = detect_separator(path)\n",
        "\n",
        "        # Carregar o CSV como DataFrame Spark\n",
        "        spark_df = spark.read.csv(path, header=True, inferSchema=True, sep=detected_sep)\n",
        "\n",
        "        # Armazenar no dicionário\n",
        "        spark_dfs[name] = spark_df\n",
        "\n",
        "        print(f\"Tabela {name} carregada com sucesso!\")\n",
        "    except Exception as e:\n",
        "        print(f\"Erro ao carregar {name}: {e}\")"
      ],
      "metadata": {
        "colab": {
          "base_uri": "https://localhost:8080/"
        },
        "id": "L24o60NOJ9BC",
        "outputId": "6a095c87-742d-4662-8fec-bd3aa9abee68"
      },
      "execution_count": 477,
      "outputs": [
        {
          "output_type": "stream",
          "name": "stdout",
          "text": [
            "Tabela ori_canal carregada com sucesso!\n",
            "Tabela ori_cooperativa carregada com sucesso!\n",
            "Tabela ori_historico carregada com sucesso!\n",
            "Tabela ori_lancamentos carregada com sucesso!\n"
          ]
        }
      ]
    },
    {
      "cell_type": "code",
      "source": [
        "# Exibir o esquema das tabelas no PySpark\n",
        "for name, spark_df in spark_dfs.items():\n",
        "    print(f\"\\nEsquema da tabela {name}:\")\n",
        "    spark_df.printSchema()"
      ],
      "metadata": {
        "colab": {
          "base_uri": "https://localhost:8080/"
        },
        "id": "Bi-kAS0yw7dw",
        "outputId": "1baee96e-42a7-413b-a96c-319f9eb9efba"
      },
      "execution_count": 478,
      "outputs": [
        {
          "output_type": "stream",
          "name": "stdout",
          "text": [
            "\n",
            "Esquema da tabela ori_canal:\n",
            "root\n",
            " |-- CDCANAL: integer (nullable = true)\n",
            " |-- NMCANAL: string (nullable = true)\n",
            "\n",
            "\n",
            "Esquema da tabela ori_cooperativa:\n",
            "root\n",
            " |-- CDCOOPER: integer (nullable = true)\n",
            " |-- NMRESCOP: string (nullable = true)\n",
            "\n",
            "\n",
            "Esquema da tabela ori_historico:\n",
            "root\n",
            " |-- CDCOOPER: integer (nullable = true)\n",
            " |-- CDHISTOR: integer (nullable = true)\n",
            " |-- INDEBCRE: string (nullable = true)\n",
            "\n",
            "\n",
            "Esquema da tabela ori_lancamentos:\n",
            "root\n",
            " |-- DTMVTOLT: string (nullable = true)\n",
            " |-- CDCOOPER: integer (nullable = true)\n",
            " |-- CDHISTOR: integer (nullable = true)\n",
            " |-- CDCANAL: integer (nullable = true)\n",
            " |-- VLLANMTO: string (nullable = true)\n",
            "\n"
          ]
        }
      ]
    },
    {
      "cell_type": "code",
      "source": [
        "# Converter os DataFrames pandas para PySpark e criar tabelas temporárias\n",
        "for name, df in dfs.items():\n",
        "    spark_df = spark.createDataFrame(df)\n",
        "    spark_df.createOrReplaceTempView(name)\n",
        "    spark_dfs[name] = spark_df\n",
        "    print(f\"Tabela {name} criada com sucesso!\")"
      ],
      "metadata": {
        "colab": {
          "base_uri": "https://localhost:8080/"
        },
        "id": "SoKeb5uIw7Ze",
        "outputId": "27fe9ecf-620c-4cf5-d2b8-f8ac2d93587e"
      },
      "execution_count": 479,
      "outputs": [
        {
          "output_type": "stream",
          "name": "stdout",
          "text": [
            "Tabela ori_canal criada com sucesso!\n",
            "Tabela ori_cooperativa criada com sucesso!\n",
            "Tabela ori_historico criada com sucesso!\n",
            "Tabela ori_lancamentos criada com sucesso!\n"
          ]
        }
      ]
    },
    {
      "cell_type": "code",
      "source": [
        "# Testar a consulta SQL\n",
        "try:\n",
        "    print(\"Exemplo de consulta na tabela 'ori_canal':\")\n",
        "    spark.sql(\"SELECT * FROM ori_canal LIMIT 10\").show()\n",
        "except Exception as e:\n",
        "    print(f\"Erro ao executar a consulta: {e}\")"
      ],
      "metadata": {
        "colab": {
          "base_uri": "https://localhost:8080/"
        },
        "id": "r4m7cyT5w7Nw",
        "outputId": "76bc22fc-21ba-4d15-ba11-4b7bde8a7138"
      },
      "execution_count": 480,
      "outputs": [
        {
          "output_type": "stream",
          "name": "stdout",
          "text": [
            "Exemplo de consulta na tabela 'ori_canal':\n",
            "+-------+----------+\n",
            "|CDCANAL|   NMCANAL|\n",
            "+-------+----------+\n",
            "|      1|    AIMARO|\n",
            "|      2|     CAIXA|\n",
            "|      3|  INTERNET|\n",
            "|      4|       TAA|\n",
            "|      5|AIMARO WEB|\n",
            "|      6|       URA|\n",
            "|      7|  PROCESSO|\n",
            "|      8|MENSAGERIA|\n",
            "|      9|   ESTEIRA|\n",
            "|     10|    MOBILE|\n",
            "+-------+----------+\n",
            "\n"
          ]
        }
      ]
    },
    {
      "cell_type": "markdown",
      "source": [
        "**a. Where**"
      ],
      "metadata": {
        "id": "FIPjykck0EzQ"
      }
    },
    {
      "cell_type": "code",
      "source": [
        "# Exibir o esquema (campos) das tabelas ori_lancamentos e ori_historico\n",
        "print(\"Esquema da tabela ori_lancamentos:\")\n",
        "spark.sql(\"DESCRIBE ori_lancamentos\").show(truncate=False)\n",
        "\n",
        "print(\"Esquema da tabela ori_historico:\")\n",
        "spark.sql(\"DESCRIBE ori_historico\").show(truncate=False)\n"
      ],
      "metadata": {
        "colab": {
          "base_uri": "https://localhost:8080/"
        },
        "id": "u4z2slZJ0ET8",
        "outputId": "c18e3452-d692-4adb-fff0-591ec9b8693c"
      },
      "execution_count": 481,
      "outputs": [
        {
          "output_type": "stream",
          "name": "stdout",
          "text": [
            "Esquema da tabela ori_lancamentos:\n",
            "+--------+---------+-------+\n",
            "|col_name|data_type|comment|\n",
            "+--------+---------+-------+\n",
            "|DTMVTOLT|string   |NULL   |\n",
            "|CDCOOPER|bigint   |NULL   |\n",
            "|CDHISTOR|bigint   |NULL   |\n",
            "|CDCANAL |bigint   |NULL   |\n",
            "|VLLANMTO|string   |NULL   |\n",
            "+--------+---------+-------+\n",
            "\n",
            "Esquema da tabela ori_historico:\n",
            "+--------+---------+-------+\n",
            "|col_name|data_type|comment|\n",
            "+--------+---------+-------+\n",
            "|CDCOOPER|bigint   |NULL   |\n",
            "|CDHISTOR|bigint   |NULL   |\n",
            "|INDEBCRE|string   |NULL   |\n",
            "+--------+---------+-------+\n",
            "\n"
          ]
        }
      ]
    },
    {
      "cell_type": "code",
      "source": [
        "# 2. Exibir os 10 primeiros registros de cada tabela\n",
        "print(\"Registros da tabela ori_lancamentos:\")\n",
        "spark.sql(\"SELECT * FROM ori_lancamentos LIMIT 10\").show(truncate=False)\n",
        "\n",
        "print(\"Registros da tabela ori_historico:\")\n",
        "spark.sql(\"SELECT * FROM ori_historico LIMIT 10\").show(truncate=False)"
      ],
      "metadata": {
        "colab": {
          "base_uri": "https://localhost:8080/"
        },
        "id": "GSlJX1zr1F-2",
        "outputId": "da7391e8-ba87-48e3-d75f-6c7d3bf246c8"
      },
      "execution_count": 482,
      "outputs": [
        {
          "output_type": "stream",
          "name": "stdout",
          "text": [
            "Registros da tabela ori_lancamentos:\n",
            "+----------+--------+--------+-------+--------+\n",
            "|DTMVTOLT  |CDCOOPER|CDHISTOR|CDCANAL|VLLANMTO|\n",
            "+----------+--------+--------+-------+--------+\n",
            "|13/09/2021|1       |1       |0      |1,16    |\n",
            "|13/09/2021|1       |1       |0      |2,68    |\n",
            "|13/09/2021|1       |1       |0      |150     |\n",
            "|13/09/2021|1       |1       |0      |200     |\n",
            "|13/09/2021|1       |1       |0      |200     |\n",
            "|13/09/2021|1       |1       |0      |234     |\n",
            "|13/09/2021|1       |1       |0      |250     |\n",
            "|13/09/2021|1       |1       |0      |272     |\n",
            "|13/09/2021|1       |1       |0      |290     |\n",
            "|13/09/2021|1       |1       |0      |300     |\n",
            "+----------+--------+--------+-------+--------+\n",
            "\n",
            "Registros da tabela ori_historico:\n",
            "+--------+--------+--------+\n",
            "|CDCOOPER|CDHISTOR|INDEBCRE|\n",
            "+--------+--------+--------+\n",
            "|1       |1       |C       |\n",
            "|1       |2       |C       |\n",
            "|1       |3       |C       |\n",
            "|1       |4       |C       |\n",
            "|1       |5       |C       |\n",
            "|1       |6       |C       |\n",
            "|1       |7       |C       |\n",
            "|1       |8       |C       |\n",
            "|1       |9       |C       |\n",
            "|1       |10      |C       |\n",
            "+--------+--------+--------+\n",
            "\n"
          ]
        }
      ]
    },
    {
      "cell_type": "code",
      "source": [
        "# a. Where\n",
        "consulta_sql = \"\"\"\n",
        "SELECT\n",
        "    l.DTMVTOLT,\n",
        "    l.CDCOOPER,\n",
        "    l.CDHISTOR,\n",
        "    l.CDCANAL,\n",
        "    l.VLLANMTO,\n",
        "    h.INDEBCRE\n",
        "FROM ori_lancamentos AS l\n",
        "INNER JOIN ori_historico AS h\n",
        "    ON l.CDCOOPER = h.CDCOOPER AND l.CDHISTOR = h.CDHISTOR\n",
        "WHERE l.VLLANMTO > 1000 -- Filtrar lançamentos acima de 1000\n",
        "ORDER BY l.DTMVTOLT DESC\n",
        "\"\"\"\n",
        "\n",
        "# Executar a consulta no Spark SQL\n",
        "print(\"Executando a consulta com WHERE:\")\n",
        "spark.sql(consulta_sql).show(truncate=False)"
      ],
      "metadata": {
        "colab": {
          "base_uri": "https://localhost:8080/"
        },
        "id": "OLHvRNQ31KZK",
        "outputId": "d035012b-a4d2-429b-c0b5-2f2462c3312e"
      },
      "execution_count": 483,
      "outputs": [
        {
          "output_type": "stream",
          "name": "stdout",
          "text": [
            "Executando a consulta com WHERE:\n",
            "+----------+--------+--------+-------+--------+--------+\n",
            "|DTMVTOLT  |CDCOOPER|CDHISTOR|CDCANAL|VLLANMTO|INDEBCRE|\n",
            "+----------+--------+--------+-------+--------+--------+\n",
            "|14/09/2021|3       |3338    |0      |3617    |C       |\n",
            "|14/09/2021|3       |1006    |0      |4850    |C       |\n",
            "|14/09/2021|1       |538     |0      |1700    |D       |\n",
            "|14/09/2021|3       |802     |0      |6600    |C       |\n",
            "|14/09/2021|3       |790     |0      |3296    |D       |\n",
            "|14/09/2021|3       |795     |0      |72320   |D       |\n",
            "|14/09/2021|3       |2227    |0      |4128    |D       |\n",
            "|14/09/2021|5       |3320    |21     |1400    |D       |\n",
            "|14/09/2021|7       |537     |0      |2060    |D       |\n",
            "|14/09/2021|3       |1013    |0      |68517   |C       |\n",
            "|14/09/2021|3       |1525    |0      |13565   |D       |\n",
            "|14/09/2021|3       |1013    |0      |15600   |C       |\n",
            "|14/09/2021|3       |1006    |0      |259165  |C       |\n",
            "|14/09/2021|3       |1013    |0      |7000    |C       |\n",
            "|14/09/2021|3       |1006    |0      |66030   |C       |\n",
            "|14/09/2021|3       |1013    |0      |5224    |C       |\n",
            "|14/09/2021|3       |1006    |0      |25833   |C       |\n",
            "|14/09/2021|3       |3368    |0      |20404   |C       |\n",
            "|14/09/2021|3       |1006    |0      |21949   |C       |\n",
            "|14/09/2021|1       |1       |0      |7000    |C       |\n",
            "+----------+--------+--------+-------+--------+--------+\n",
            "only showing top 20 rows\n",
            "\n"
          ]
        }
      ]
    },
    {
      "cell_type": "markdown",
      "source": [
        "**b. Having**"
      ],
      "metadata": {
        "id": "EfqK83zG2f2x"
      }
    },
    {
      "cell_type": "code",
      "source": [
        "# b. Having\n",
        "\n",
        "consulta_sql = \"\"\"\n",
        "SELECT\n",
        "    l.CDCOOPER,\n",
        "    l.CDHISTOR,\n",
        "    SUM(l.VLLANMTO) AS TOTAL_LANCAMENTOS\n",
        "FROM ori_lancamentos AS l\n",
        "INNER JOIN ori_historico AS h\n",
        "    ON l.CDCOOPER = h.CDCOOPER AND l.CDHISTOR = h.CDHISTOR\n",
        "GROUP BY l.CDCOOPER, l.CDHISTOR\n",
        "HAVING SUM(l.VLLANMTO) > 5000\n",
        "ORDER BY TOTAL_LANCAMENTOS DESC\n",
        "\"\"\"\n",
        "\n",
        "# Executar a consulta\n",
        "print(\" Executando a consulta com HAVING:\")\n",
        "spark.sql(consulta_sql).show(truncate=False)\n"
      ],
      "metadata": {
        "colab": {
          "base_uri": "https://localhost:8080/"
        },
        "id": "IN2YWYdQ11fO",
        "outputId": "a0724780-1ef9-4286-ed00-544686e4d6e5"
      },
      "execution_count": 484,
      "outputs": [
        {
          "output_type": "stream",
          "name": "stdout",
          "text": [
            " Executando a consulta com HAVING:\n",
            "+--------+--------+-----------------+\n",
            "|CDCOOPER|CDHISTOR|TOTAL_LANCAMENTOS|\n",
            "+--------+--------+-----------------+\n",
            "|3       |784     |5317494.0        |\n",
            "|3       |1006    |490683.0         |\n",
            "|3       |1013    |232418.0         |\n",
            "|3       |1005    |220916.0         |\n",
            "|3       |797     |196406.0         |\n",
            "|1       |539     |175248.0         |\n",
            "|3       |1012    |124781.0         |\n",
            "|3       |803     |102586.0         |\n",
            "|3       |795     |72320.0          |\n",
            "|1       |1       |65299.0          |\n",
            "|3       |1527    |56712.0          |\n",
            "|3       |3536    |52000.0          |\n",
            "|1       |3318    |40563.0          |\n",
            "|1       |537     |34489.0          |\n",
            "|1       |508     |34413.0          |\n",
            "|3       |885     |23130.0          |\n",
            "|1       |316     |21030.0          |\n",
            "|3       |3368    |20404.0          |\n",
            "|1       |2433    |18331.0          |\n",
            "|3       |574     |18120.0          |\n",
            "+--------+--------+-----------------+\n",
            "only showing top 20 rows\n",
            "\n"
          ]
        }
      ]
    },
    {
      "cell_type": "markdown",
      "source": [
        "**c. Like**\n",
        "\n",
        "*usei like por ser uma boa prática, isso porque irá buscar as referencias relacionadas a condição. NOT LIKE precisa buscar todas as não referencias, para entao buscar as referencias relacionadas a condição.*"
      ],
      "metadata": {
        "id": "KQmLLEKY4PjU"
      }
    },
    {
      "cell_type": "code",
      "source": [
        "# c. Like\n",
        "\n",
        "consulta_sql = \"\"\"\n",
        "SELECT\n",
        "    CDCOOPER,\n",
        "    CDHISTOR,\n",
        "    VLLANMTO\n",
        "FROM ori_lancamentos\n",
        "WHERE CDHISTOR LIKE '1%' -- Filtra históricos que começam com '1'\n",
        "ORDER BY VLLANMTO DESC\n",
        "\"\"\"\n",
        "\n",
        "# Executar a consulta\n",
        "print(\"Executando a consulta com LIKE:\")\n",
        "spark.sql(consulta_sql).show(truncate=False)\n"
      ],
      "metadata": {
        "colab": {
          "base_uri": "https://localhost:8080/"
        },
        "id": "ws1sbP9W3YN5",
        "outputId": "f1c44843-f053-47ee-bab0-e7d4d1c7ba7a"
      },
      "execution_count": 485,
      "outputs": [
        {
          "output_type": "stream",
          "name": "stdout",
          "text": [
            "Executando a consulta com LIKE:\n",
            "+--------+--------+--------+\n",
            "|CDCOOPER|CDHISTOR|VLLANMTO|\n",
            "+--------+--------+--------+\n",
            "|1       |1545    |991,25  |\n",
            "|1       |1548    |99,54   |\n",
            "|3       |1005    |9880    |\n",
            "|1       |15      |9800    |\n",
            "|16      |1548    |980     |\n",
            "|3       |1005    |97741   |\n",
            "|1       |1545    |96,43   |\n",
            "|1       |1548    |96,37   |\n",
            "|3       |1005    |9485    |\n",
            "|3       |1006    |9485    |\n",
            "|3       |1013    |94503   |\n",
            "|1       |1       |925     |\n",
            "|3       |1012    |90134,83|\n",
            "|1       |1       |900     |\n",
            "|1       |1       |900     |\n",
            "|1       |127     |90      |\n",
            "|1       |1548    |90      |\n",
            "|1       |1548    |9,99    |\n",
            "|1       |1548    |9,94    |\n",
            "|1       |1548    |9,8     |\n",
            "+--------+--------+--------+\n",
            "only showing top 20 rows\n",
            "\n"
          ]
        }
      ]
    },
    {
      "cell_type": "markdown",
      "source": [
        "**d. IN**\n",
        "\n",
        "*usei IN com a mesma justificativa de usar LIKE*"
      ],
      "metadata": {
        "id": "ZUiaynQt4476"
      }
    },
    {
      "cell_type": "code",
      "source": [
        "# d. In\n",
        "\n",
        "consulta_sql = \"\"\"\n",
        "SELECT\n",
        "    CDCOOPER,\n",
        "    CDHISTOR,\n",
        "    CDCANAL,\n",
        "    VLLANMTO\n",
        "FROM ori_lancamentos\n",
        "WHERE CDCOOPER IN (1, 2, 3) -- Filtra apenas essas cooperativas\n",
        "ORDER BY VLLANMTO DESC\n",
        "\"\"\"\n",
        "\n",
        "# Executar a consulta\n",
        "print(\"Executando a consulta com IN:\")\n",
        "spark.sql(consulta_sql).show(truncate=False)\n"
      ],
      "metadata": {
        "colab": {
          "base_uri": "https://localhost:8080/"
        },
        "id": "5vBHuccl5DdE",
        "outputId": "4670999d-4af5-492a-c3dd-73e27881886b"
      },
      "execution_count": 486,
      "outputs": [
        {
          "output_type": "stream",
          "name": "stdout",
          "text": [
            "Executando a consulta com IN:\n",
            "+--------+--------+-------+---------+\n",
            "|CDCOOPER|CDHISTOR|CDCANAL|VLLANMTO |\n",
            "+--------+--------+-------+---------+\n",
            "|1       |987     |0      |999,73   |\n",
            "|3       |440     |0      |9915,6   |\n",
            "|1       |1545    |0      |991,25   |\n",
            "|1       |508     |0      |99,9     |\n",
            "|1       |1548    |8      |99,54    |\n",
            "|3       |1005    |0      |9880     |\n",
            "|1       |15      |3      |9800     |\n",
            "|1       |3318    |21     |980      |\n",
            "|1       |2741    |0      |98,55    |\n",
            "|3       |1005    |0      |97741    |\n",
            "|1       |987     |0      |9772,96  |\n",
            "|1       |3318    |21     |976      |\n",
            "|3       |791     |0      |97139,56 |\n",
            "|1       |856     |0      |97,41    |\n",
            "|3       |2623    |0      |9685,71  |\n",
            "|1       |3373    |21     |966,74   |\n",
            "|3       |3044    |0      |965267,14|\n",
            "|3       |797     |0      |96293,51 |\n",
            "|1       |1545    |0      |96,43    |\n",
            "|1       |1548    |8      |96,37    |\n",
            "+--------+--------+-------+---------+\n",
            "only showing top 20 rows\n",
            "\n"
          ]
        }
      ]
    },
    {
      "cell_type": "markdown",
      "source": [
        "**e. And e Or**"
      ],
      "metadata": {
        "id": "GBWs8JxC5x59"
      }
    },
    {
      "cell_type": "code",
      "source": [
        "# e. And e Or\n",
        "\n",
        "consulta_sql = \"\"\"\n",
        "SELECT\n",
        "    CDCOOPER,\n",
        "    CDHISTOR,\n",
        "    CDCANAL,\n",
        "    VLLANMTO\n",
        "FROM ori_lancamentos\n",
        "WHERE (CDCOOPER = 1 OR CDCOOPER = 2)  -- Condição OR\n",
        "AND VLLANMTO > 5000  -- Condição AND\n",
        "ORDER BY VLLANMTO DESC\n",
        "\"\"\"\n",
        "\n",
        "# Executar a consulta\n",
        "print(\"Executando a consulta com AND e OR:\")\n",
        "spark.sql(consulta_sql).show(truncate=False)\n"
      ],
      "metadata": {
        "colab": {
          "base_uri": "https://localhost:8080/"
        },
        "id": "TN2MiZ26524t",
        "outputId": "b70b3867-7d63-46d0-8974-2f2e7f705de8"
      },
      "execution_count": 487,
      "outputs": [
        {
          "output_type": "stream",
          "name": "stdout",
          "text": [
            "Executando a consulta com AND e OR:\n",
            "+--------+--------+-------+--------+\n",
            "|CDCOOPER|CDHISTOR|CDCANAL|VLLANMTO|\n",
            "+--------+--------+-------+--------+\n",
            "|1       |15      |3      |9800    |\n",
            "|1       |578     |0      |9000    |\n",
            "|1       |1       |0      |7000    |\n",
            "|1       |1       |0      |7000    |\n",
            "|1       |539     |0      |7000    |\n",
            "|1       |1030    |0      |6000    |\n",
            "|1       |539     |0      |5475    |\n",
            "|1       |508     |0      |5390    |\n",
            "|1       |1       |0      |22647   |\n",
            "|1       |539     |0      |16500   |\n",
            "|1       |2433    |0      |13384   |\n",
            "|1       |386     |0      |12634   |\n",
            "|1       |539     |0      |120000  |\n",
            "+--------+--------+-------+--------+\n",
            "\n"
          ]
        }
      ]
    },
    {
      "cell_type": "markdown",
      "source": [
        "**f. Exists**\n",
        "\n",
        "*mesma justifica de utilizar IN ao invés de NOT IN*"
      ],
      "metadata": {
        "id": "SIr--w9F68JJ"
      }
    },
    {
      "cell_type": "code",
      "source": [
        "# f. Exists\n",
        "\n",
        "consulta_sql = \"\"\"\n",
        "SELECT\n",
        "    l.CDCOOPER,\n",
        "    l.CDHISTOR,\n",
        "    l.CDCANAL,\n",
        "    l.VLLANMTO\n",
        "FROM ori_lancamentos AS l\n",
        "WHERE EXISTS (\n",
        "    SELECT 1\n",
        "    FROM ori_historico AS h\n",
        "    WHERE l.CDCOOPER = h.CDCOOPER\n",
        "    AND l.CDHISTOR = h.CDHISTOR\n",
        ")\n",
        "ORDER BY l.VLLANMTO DESC\n",
        "LIMIT 10\n",
        "\"\"\"\n",
        "\n",
        "# Executar a consulta\n",
        "print(\"Executando a consulta com EXISTS:\")\n",
        "spark.sql(consulta_sql).show(truncate=False)\n"
      ],
      "metadata": {
        "colab": {
          "base_uri": "https://localhost:8080/"
        },
        "id": "_QD-zu4a66ln",
        "outputId": "580ce02b-e1db-4e2a-d58b-0fef1d377954"
      },
      "execution_count": 488,
      "outputs": [
        {
          "output_type": "stream",
          "name": "stdout",
          "text": [
            "Executando a consulta com EXISTS:\n",
            "+--------+--------+-------+--------+\n",
            "|CDCOOPER|CDHISTOR|CDCANAL|VLLANMTO|\n",
            "+--------+--------+-------+--------+\n",
            "|1       |987     |0      |999,73  |\n",
            "|3       |440     |0      |9915,6  |\n",
            "|1       |1545    |0      |991,25  |\n",
            "|7       |508     |0      |99,9    |\n",
            "|1       |508     |0      |99,9    |\n",
            "|1       |1548    |8      |99,54   |\n",
            "|3       |1005    |0      |9880    |\n",
            "|1       |15      |3      |9800    |\n",
            "|1       |3318    |21     |980     |\n",
            "|16      |1548    |8      |980     |\n",
            "+--------+--------+-------+--------+\n",
            "\n"
          ]
        }
      ]
    },
    {
      "cell_type": "markdown",
      "source": [
        "**g. Group By e Order by**"
      ],
      "metadata": {
        "id": "yv-larWX7Vmp"
      }
    },
    {
      "cell_type": "code",
      "source": [
        "# g. Group By e Order by\n",
        "\n",
        "consulta_sql = \"\"\"\n",
        "SELECT\n",
        "    CDCOOPER,\n",
        "    CDHISTOR,\n",
        "    SUM(VLLANMTO) AS TOTAL_LANCAMENTOS\n",
        "FROM ori_lancamentos\n",
        "GROUP BY CDCOOPER, CDHISTOR  -- Agrupa por cooperativa e histórico\n",
        "ORDER BY TOTAL_LANCAMENTOS DESC  -- Ordena do maior para o menor\n",
        "\"\"\"\n",
        "\n",
        "# Executar a consulta\n",
        "print(\"Executando a consulta com GROUP BY e ORDER BY:\")\n",
        "spark.sql(consulta_sql).show(truncate=False)\n"
      ],
      "metadata": {
        "colab": {
          "base_uri": "https://localhost:8080/"
        },
        "id": "ei5Ox_xI7aZQ",
        "outputId": "3027dfef-0150-4e86-f275-a35c3b2c5204"
      },
      "execution_count": 489,
      "outputs": [
        {
          "output_type": "stream",
          "name": "stdout",
          "text": [
            "Executando a consulta com GROUP BY e ORDER BY:\n",
            "+--------+--------+-----------------+\n",
            "|CDCOOPER|CDHISTOR|TOTAL_LANCAMENTOS|\n",
            "+--------+--------+-----------------+\n",
            "|3       |784     |5317494.0        |\n",
            "|3       |1006    |490683.0         |\n",
            "|3       |1013    |232418.0         |\n",
            "|3       |1005    |220916.0         |\n",
            "|3       |797     |196406.0         |\n",
            "|1       |539     |175248.0         |\n",
            "|3       |1012    |124781.0         |\n",
            "|3       |803     |102586.0         |\n",
            "|3       |795     |72320.0          |\n",
            "|1       |1       |65299.0          |\n",
            "|3       |1527    |56712.0          |\n",
            "|3       |3536    |52000.0          |\n",
            "|1       |3318    |40563.0          |\n",
            "|1       |537     |34489.0          |\n",
            "|1       |508     |34413.0          |\n",
            "|3       |885     |23130.0          |\n",
            "|1       |316     |21030.0          |\n",
            "|3       |3368    |20404.0          |\n",
            "|1       |2433    |18331.0          |\n",
            "|3       |574     |18120.0          |\n",
            "+--------+--------+-----------------+\n",
            "only showing top 20 rows\n",
            "\n"
          ]
        }
      ]
    },
    {
      "cell_type": "markdown",
      "source": [
        "**h. Union**"
      ],
      "metadata": {
        "id": "q80V2Asj7596"
      }
    },
    {
      "cell_type": "code",
      "source": [
        "# h. Union\n",
        "\n",
        "consulta_sql = \"\"\"\n",
        "SELECT CDCOOPER, CDHISTOR, CDCANAL, VLLANMTO\n",
        "FROM ori_lancamentos\n",
        "WHERE CDCOOPER IN (1001, 1002)\n",
        "\n",
        "UNION\n",
        "\n",
        "SELECT CDCOOPER, CDHISTOR, CDCANAL, VLLANMTO\n",
        "FROM ori_lancamentos\n",
        "WHERE CDCOOPER IN (3, 4)\n",
        "\n",
        "ORDER BY VLLANMTO DESC\n",
        "\"\"\"\n",
        "\n",
        "# Executar a consulta\n",
        "print(\"Executando a consulta com UNION:\")\n",
        "spark.sql(consulta_sql).show(truncate=False)\n",
        "\n"
      ],
      "metadata": {
        "colab": {
          "base_uri": "https://localhost:8080/"
        },
        "id": "Sa7xiW_z71_1",
        "outputId": "a03b610a-356a-43f8-e258-25de0600c07b"
      },
      "execution_count": 490,
      "outputs": [
        {
          "output_type": "stream",
          "name": "stdout",
          "text": [
            "Executando a consulta com UNION:\n",
            "+--------+--------+-------+----------+\n",
            "|CDCOOPER|CDHISTOR|CDCANAL|VLLANMTO  |\n",
            "+--------+--------+-------+----------+\n",
            "|3       |440     |0      |9915,6    |\n",
            "|3       |1005    |0      |9880      |\n",
            "|3       |1005    |0      |97741     |\n",
            "|3       |791     |0      |97139,56  |\n",
            "|3       |2623    |0      |9685,71   |\n",
            "|3       |3044    |0      |965267,14 |\n",
            "|3       |797     |0      |96293,51  |\n",
            "|3       |3374    |0      |9490922,77|\n",
            "|3       |1005    |0      |9485      |\n",
            "|3       |1006    |0      |9485      |\n",
            "|3       |1013    |0      |94503     |\n",
            "|3       |3368    |0      |92865,85  |\n",
            "|3       |2227    |0      |926,4     |\n",
            "|3       |3372    |0      |9231215,5 |\n",
            "|3       |2643    |0      |91,14     |\n",
            "|3       |1012    |0      |90134,83  |\n",
            "|3       |796     |0      |88743,76  |\n",
            "|3       |797     |0      |8837514,42|\n",
            "|3       |885     |0      |87966,5   |\n",
            "|3       |2239    |0      |8695,66   |\n",
            "+--------+--------+-------+----------+\n",
            "only showing top 20 rows\n",
            "\n"
          ]
        }
      ]
    },
    {
      "cell_type": "markdown",
      "source": [
        "**i. Intersect e Minus**"
      ],
      "metadata": {
        "id": "3roLomSI8Rhw"
      }
    },
    {
      "cell_type": "code",
      "source": [
        "# i. Intersect\n",
        "\n",
        "consulta_sql = \"\"\"\n",
        "SELECT CDCOOPER, CDHISTOR\n",
        "FROM ori_lancamentos\n",
        "\n",
        "INTERSECT\n",
        "\n",
        "SELECT CDCOOPER, CDHISTOR\n",
        "FROM ori_historico\n",
        "\n",
        "ORDER BY CDCOOPER, CDHISTOR\n",
        "\"\"\"\n",
        "\n",
        "# Executar a consulta\n",
        "print(\"Executando a consulta com INTERSECT:\")\n",
        "spark.sql(consulta_sql).show(truncate=False)\n",
        "\n"
      ],
      "metadata": {
        "colab": {
          "base_uri": "https://localhost:8080/"
        },
        "id": "cWxQrLvr8VR3",
        "outputId": "416bae94-be61-4796-da10-f3c2d5517c2e"
      },
      "execution_count": 491,
      "outputs": [
        {
          "output_type": "stream",
          "name": "stdout",
          "text": [
            "Executando a consulta com INTERSECT:\n",
            "+--------+--------+\n",
            "|CDCOOPER|CDHISTOR|\n",
            "+--------+--------+\n",
            "|1       |1       |\n",
            "|1       |15      |\n",
            "|1       |21      |\n",
            "|1       |22      |\n",
            "|1       |47      |\n",
            "|1       |48      |\n",
            "|1       |108     |\n",
            "|1       |127     |\n",
            "|1       |316     |\n",
            "|1       |386     |\n",
            "|1       |508     |\n",
            "|1       |521     |\n",
            "|1       |537     |\n",
            "|1       |538     |\n",
            "|1       |539     |\n",
            "|1       |555     |\n",
            "|1       |578     |\n",
            "|1       |667     |\n",
            "|1       |834     |\n",
            "|1       |856     |\n",
            "+--------+--------+\n",
            "only showing top 20 rows\n",
            "\n"
          ]
        }
      ]
    },
    {
      "cell_type": "code",
      "source": [
        "# i. Minus\n",
        "\n",
        "consulta_sql = \"\"\"\n",
        "SELECT CDCOOPER, CDHISTOR\n",
        "FROM ori_lancamentos\n",
        "\n",
        "EXCEPT\n",
        "\n",
        "SELECT CDCOOPER, CDHISTOR\n",
        "FROM ori_historico\n",
        "\n",
        "ORDER BY CDCOOPER, CDHISTOR\n",
        "\"\"\"\n",
        "\n",
        "# Executar a consulta\n",
        "print(\"Executando a consulta com MINUS (EXCEPT no PySpark):\")\n",
        "spark.sql(consulta_sql).show(truncate=False)\n"
      ],
      "metadata": {
        "colab": {
          "base_uri": "https://localhost:8080/"
        },
        "id": "pB9669fi9QiW",
        "outputId": "42864959-5973-4ea7-ac72-596ed1dfae3c"
      },
      "execution_count": 492,
      "outputs": [
        {
          "output_type": "stream",
          "name": "stdout",
          "text": [
            "Executando a consulta com MINUS (EXCEPT no PySpark):\n",
            "+--------+--------+\n",
            "|CDCOOPER|CDHISTOR|\n",
            "+--------+--------+\n",
            "+--------+--------+\n",
            "\n"
          ]
        }
      ]
    },
    {
      "cell_type": "markdown",
      "source": [
        "**j. Distinct**"
      ],
      "metadata": {
        "id": "DX_cz6Oe9ebW"
      }
    },
    {
      "cell_type": "code",
      "source": [
        "# j. Distinct\n",
        "\n",
        "consulta_sql = \"\"\"\n",
        "SELECT DISTINCT CDCOOPER, CDHISTOR\n",
        "FROM ori_lancamentos\n",
        "ORDER BY CDCOOPER, CDHISTOR\n",
        "\"\"\"\n",
        "\n",
        "# Executar a consulta\n",
        "print(\"Executando a consulta com DISTINCT:\")\n",
        "spark.sql(consulta_sql).show(truncate=False)"
      ],
      "metadata": {
        "colab": {
          "base_uri": "https://localhost:8080/"
        },
        "id": "f_o3A4QH9dvo",
        "outputId": "ebc2efaa-0da2-45da-f7f7-99740cff23ea"
      },
      "execution_count": 493,
      "outputs": [
        {
          "output_type": "stream",
          "name": "stdout",
          "text": [
            "Executando a consulta com DISTINCT:\n",
            "+--------+--------+\n",
            "|CDCOOPER|CDHISTOR|\n",
            "+--------+--------+\n",
            "|1       |1       |\n",
            "|1       |15      |\n",
            "|1       |21      |\n",
            "|1       |22      |\n",
            "|1       |47      |\n",
            "|1       |48      |\n",
            "|1       |108     |\n",
            "|1       |127     |\n",
            "|1       |316     |\n",
            "|1       |386     |\n",
            "|1       |508     |\n",
            "|1       |521     |\n",
            "|1       |537     |\n",
            "|1       |538     |\n",
            "|1       |539     |\n",
            "|1       |555     |\n",
            "|1       |578     |\n",
            "|1       |667     |\n",
            "|1       |834     |\n",
            "|1       |856     |\n",
            "+--------+--------+\n",
            "only showing top 20 rows\n",
            "\n"
          ]
        }
      ]
    },
    {
      "cell_type": "markdown",
      "source": [
        "**k. With**"
      ],
      "metadata": {
        "id": "qbITt-Df92PZ"
      }
    },
    {
      "cell_type": "code",
      "source": [
        "# k. With\n",
        "\n",
        "consulta_sql = \"\"\"\n",
        "WITH Lancamentos_Agrupados AS (\n",
        "    SELECT\n",
        "        CDCOOPER,\n",
        "        CDHISTOR,\n",
        "        SUM(VLLANMTO) AS TOTAL_LANCAMENTOS\n",
        "    FROM ori_lancamentos\n",
        "    GROUP BY CDCOOPER, CDHISTOR\n",
        ")\n",
        "\n",
        "SELECT *\n",
        "FROM Lancamentos_Agrupados\n",
        "WHERE TOTAL_LANCAMENTOS > 5000\n",
        "ORDER BY TOTAL_LANCAMENTOS DESC\n",
        "\"\"\"\n",
        "\n",
        "# Executar a consulta\n",
        "print(\"Executando a consulta com WITH (CTE):\")\n",
        "spark.sql(consulta_sql).show(truncate=False)\n",
        "\n"
      ],
      "metadata": {
        "colab": {
          "base_uri": "https://localhost:8080/"
        },
        "id": "-doR2xMl96VB",
        "outputId": "6f21dfe2-bb9e-4227-9af5-f6ca1a6d59d5"
      },
      "execution_count": 494,
      "outputs": [
        {
          "output_type": "stream",
          "name": "stdout",
          "text": [
            "Executando a consulta com WITH (CTE):\n",
            "+--------+--------+-----------------+\n",
            "|CDCOOPER|CDHISTOR|TOTAL_LANCAMENTOS|\n",
            "+--------+--------+-----------------+\n",
            "|3       |784     |5317494.0        |\n",
            "|3       |1006    |490683.0         |\n",
            "|3       |1013    |232418.0         |\n",
            "|3       |1005    |220916.0         |\n",
            "|3       |797     |196406.0         |\n",
            "|1       |539     |175248.0         |\n",
            "|3       |1012    |124781.0         |\n",
            "|3       |803     |102586.0         |\n",
            "|3       |795     |72320.0          |\n",
            "|1       |1       |65299.0          |\n",
            "|3       |1527    |56712.0          |\n",
            "|3       |3536    |52000.0          |\n",
            "|1       |3318    |40563.0          |\n",
            "|1       |537     |34489.0          |\n",
            "|1       |508     |34413.0          |\n",
            "|3       |885     |23130.0          |\n",
            "|1       |316     |21030.0          |\n",
            "|3       |3368    |20404.0          |\n",
            "|1       |2433    |18331.0          |\n",
            "|3       |574     |18120.0          |\n",
            "+--------+--------+-----------------+\n",
            "only showing top 20 rows\n",
            "\n"
          ]
        }
      ]
    },
    {
      "cell_type": "markdown",
      "source": [
        "**l. Sum, Min e Max**"
      ],
      "metadata": {
        "id": "qpVX-mlG-KKg"
      }
    },
    {
      "cell_type": "code",
      "source": [
        "# l. Sum, Min e Max\n",
        "\n",
        "consulta_sql = \"\"\"\n",
        "SELECT\n",
        "    SUM(VLLANMTO) AS TOTAL_LANCAMENTOS,\n",
        "    MIN(VLLANMTO) AS MENOR_LANCAMENTO,\n",
        "    MAX(VLLANMTO) AS MAIOR_LANCAMENTO\n",
        "FROM ori_lancamentos\n",
        "GROUP BY CDCOOPER\n",
        "ORDER BY TOTAL_LANCAMENTOS DESC\n",
        "\"\"\"\n",
        "\n",
        "# Executar a consulta\n",
        "print(\"Executando a consulta com SUM, MIN e MAX:\")\n",
        "spark.sql(consulta_sql).show(truncate=False)"
      ],
      "metadata": {
        "colab": {
          "base_uri": "https://localhost:8080/"
        },
        "id": "vuHyKLlf-OF2",
        "outputId": "95cee14d-9b23-4c5c-a69c-4b5d88494fd1"
      },
      "execution_count": 495,
      "outputs": [
        {
          "output_type": "stream",
          "name": "stdout",
          "text": [
            "Executando a consulta com SUM, MIN e MAX:\n",
            "+-----------------+----------------+----------------+\n",
            "|TOTAL_LANCAMENTOS|MENOR_LANCAMENTO|MAIOR_LANCAMENTO|\n",
            "+-----------------+----------------+----------------+\n",
            "|6972669.0        |0,4             |9915,6          |\n",
            "|503692.0         |0,01            |999,73          |\n",
            "|25320.0          |1,94            |9,7             |\n",
            "|9665.0           |10921,14        |888,3           |\n",
            "|5407.0           |0,02            |68              |\n",
            "|4123.0           |0,12            |980             |\n",
            "|2659.0           |10              |99,9            |\n",
            "|308.0            |110             |50              |\n",
            "|150.0            |10              |9,48            |\n",
            "|115.0            |115             |32,76           |\n",
            "|20.0             |10              |88,18           |\n",
            "|NULL             |371,16          |371,16          |\n",
            "+-----------------+----------------+----------------+\n",
            "\n"
          ]
        }
      ]
    },
    {
      "cell_type": "markdown",
      "source": [
        "**m. Update**"
      ],
      "metadata": {
        "id": "iI3mgNpE-omZ"
      }
    },
    {
      "cell_type": "code",
      "source": [
        "#  Update\n",
        "\n",
        "consulta_sql = \"\"\"\n",
        "SELECT\n",
        "    CDCOOPER,\n",
        "    CDHISTOR,\n",
        "    CDCANAL,\n",
        "    CASE\n",
        "        WHEN VLLANMTO < 1000 THEN VLLANMTO * 1.10  -- Aumenta em 10% os valores abaixo de 1000\n",
        "        ELSE VLLANMTO  -- Mantém os outros valores iguais\n",
        "    END AS VLLANMTO_ATUALIZADO\n",
        "FROM ori_lancamentos\n",
        "\"\"\"\n",
        "\n",
        "# Executar a consulta\n",
        "print(\"Simulando um UPDATE com CASE WHEN:\")\n",
        "spark.sql(consulta_sql).show(truncate=False)\n"
      ],
      "metadata": {
        "colab": {
          "base_uri": "https://localhost:8080/"
        },
        "id": "Uz4VAW8S-sQa",
        "outputId": "29defc6b-30c3-49ed-a79a-93b6f3e129c0"
      },
      "execution_count": 496,
      "outputs": [
        {
          "output_type": "stream",
          "name": "stdout",
          "text": [
            "Simulando um UPDATE com CASE WHEN:\n",
            "+--------+--------+-------+-------------------+\n",
            "|CDCOOPER|CDHISTOR|CDCANAL|VLLANMTO_ATUALIZADO|\n",
            "+--------+--------+-------+-------------------+\n",
            "|1       |1       |0      |1,16               |\n",
            "|1       |1       |0      |2,68               |\n",
            "|1       |1       |0      |165.0              |\n",
            "|1       |1       |0      |220.00000000000003 |\n",
            "|1       |1       |0      |220.00000000000003 |\n",
            "|1       |1       |0      |257.40000000000003 |\n",
            "|1       |1       |0      |275.0              |\n",
            "|1       |1       |0      |299.20000000000005 |\n",
            "|1       |1       |0      |319.0              |\n",
            "|1       |1       |0      |330.0              |\n",
            "|1       |1       |0      |374.00000000000006 |\n",
            "|1       |1       |0      |385.00000000000006 |\n",
            "|1       |1       |0      |550.0              |\n",
            "|1       |1       |0      |660.0              |\n",
            "|1       |1       |0      |660.0              |\n",
            "|1       |1       |0      |770.0000000000001  |\n",
            "|1       |1       |0      |770.0000000000001  |\n",
            "|1       |1       |0      |880.0000000000001  |\n",
            "|1       |1       |0      |935.0000000000001  |\n",
            "|1       |1       |0      |935.0000000000001  |\n",
            "+--------+--------+-------+-------------------+\n",
            "only showing top 20 rows\n",
            "\n"
          ]
        }
      ]
    },
    {
      "cell_type": "code",
      "source": [
        "# Criar uma nova tabela temporária com os valores atualizados (spark não permite update e delete direto, então nesse caso cria uma tabela nova e sobrescreve a original)\n",
        "#df_atualizado = spark.sql(consulta_sql)\n",
        "\n",
        "# Sobrescrever a tabela original\n",
        "#df_atualizado.createOrReplaceTempView(\"ori_lancamentos\")\n"
      ],
      "metadata": {
        "id": "5QtEkDNo_O4O"
      },
      "execution_count": 497,
      "outputs": []
    },
    {
      "cell_type": "code",
      "source": [
        "# Update usando Tabelas Delta\n",
        "\n",
        "#UPDATE ori_lancamentos\n",
        "#SET VLLANMTO = VLLANMTO * 1.10\n",
        "#WHERE VLLANMTO < 1000;\n",
        "\n"
      ],
      "metadata": {
        "id": "Dfc7Lk9bDBNs"
      },
      "execution_count": 498,
      "outputs": []
    },
    {
      "cell_type": "markdown",
      "source": [
        "**n. Delete**"
      ],
      "metadata": {
        "id": "ZNXeYTMY-_Hl"
      }
    },
    {
      "cell_type": "code",
      "source": [
        "# n. Delete\n",
        "\n",
        "consulta_sql = \"\"\"\n",
        "SELECT *\n",
        "FROM ori_lancamentos\n",
        "WHERE VLLANMTO >= 100  -- Mantém apenas valores iguais ou superiores a 100\n",
        "\"\"\"\n",
        "\n",
        "# Executar a consulta no Spark SQL\n",
        "print(\"Simulando um DELETE com WHERE:\")\n",
        "spark.sql(consulta_sql).show(truncate=False)\n"
      ],
      "metadata": {
        "colab": {
          "base_uri": "https://localhost:8080/"
        },
        "id": "zQd46D0z_DpS",
        "outputId": "c52a3c84-9699-4948-b4ee-bb076ff75e5b"
      },
      "execution_count": 499,
      "outputs": [
        {
          "output_type": "stream",
          "name": "stdout",
          "text": [
            "Simulando um DELETE com WHERE:\n",
            "+----------+--------+--------+-------+--------+\n",
            "|DTMVTOLT  |CDCOOPER|CDHISTOR|CDCANAL|VLLANMTO|\n",
            "+----------+--------+--------+-------+--------+\n",
            "|13/09/2021|1       |1       |0      |150     |\n",
            "|13/09/2021|1       |1       |0      |200     |\n",
            "|13/09/2021|1       |1       |0      |200     |\n",
            "|13/09/2021|1       |1       |0      |234     |\n",
            "|13/09/2021|1       |1       |0      |250     |\n",
            "|13/09/2021|1       |1       |0      |272     |\n",
            "|13/09/2021|1       |1       |0      |290     |\n",
            "|13/09/2021|1       |1       |0      |300     |\n",
            "|13/09/2021|1       |1       |0      |340     |\n",
            "|13/09/2021|1       |1       |0      |350     |\n",
            "|13/09/2021|1       |1       |0      |500     |\n",
            "|13/09/2021|1       |1       |0      |600     |\n",
            "|13/09/2021|1       |1       |0      |600     |\n",
            "|13/09/2021|1       |1       |0      |700     |\n",
            "|13/09/2021|1       |1       |0      |700     |\n",
            "|13/09/2021|1       |1       |0      |800     |\n",
            "|13/09/2021|1       |1       |0      |850     |\n",
            "|13/09/2021|1       |1       |0      |850     |\n",
            "|13/09/2021|1       |1       |0      |925     |\n",
            "|13/09/2021|1       |1       |0      |1000    |\n",
            "+----------+--------+--------+-------+--------+\n",
            "only showing top 20 rows\n",
            "\n"
          ]
        }
      ]
    },
    {
      "cell_type": "code",
      "source": [
        "# Criar um novo DataFrame sem os registros indesejados (spark não permite update e delete direto, então nesse caso cria uma tabela nova e sobrescreve a original)\n",
        "#df_filtrado = spark.sql(consulta_sql)\n",
        "\n",
        "# Sobrescrever a tabela original (substituindo os dados)\n",
        "#df_filtrado.createOrReplaceTempView(\"ori_lancamentos\")"
      ],
      "metadata": {
        "id": "VlMkyPTK_v9S"
      },
      "execution_count": 500,
      "outputs": []
    },
    {
      "cell_type": "code",
      "source": [
        "# Usando Delete no SQL\n",
        "\n",
        "#DELETE FROM ori_lancamentos\n",
        "#WHERE VLLANMTO < 100;\n"
      ],
      "metadata": {
        "id": "w0ZXhZqKCypN"
      },
      "execution_count": 501,
      "outputs": []
    },
    {
      "cell_type": "markdown",
      "source": [
        " **Escreva\n",
        "uma consulta SELECT que retorne a média dos valores de lançamentos, agrupados\n",
        "pelos seguintes campos: cooperativa, dtbase e dshistorico**"
      ],
      "metadata": {
        "id": "TmLa1c5FAUGB"
      }
    },
    {
      "cell_type": "code",
      "source": [
        "# Consulta Select\n",
        "\n",
        "consulta_sql = \"\"\"\n",
        "SELECT\n",
        "    l.CDCOOPER,\n",
        "    l.DTMVTOLT AS DTBASE,\n",
        "    h.INDEBCRE,  -- Usando um campo existente na tabela ori_historico\n",
        "    AVG(l.VLLANMTO) AS MEDIA_LANCAMENTOS\n",
        "FROM ori_lancamentos AS l\n",
        "INNER JOIN ori_historico AS h\n",
        "    ON l.CDCOOPER = h.CDCOOPER\n",
        "    AND l.CDHISTOR = h.CDHISTOR\n",
        "GROUP BY l.CDCOOPER, l.DTMVTOLT, h.INDEBCRE\n",
        "ORDER BY l.CDCOOPER, DTBASE, MEDIA_LANCAMENTOS DESC\n",
        "\"\"\"\n",
        "\n",
        "# Executar a consulta\n",
        "print(\"Executando a consulta:\")\n",
        "spark.sql(consulta_sql).show(truncate=False)\n",
        "\n"
      ],
      "metadata": {
        "colab": {
          "base_uri": "https://localhost:8080/"
        },
        "id": "Vt__cbxqAjH_",
        "outputId": "25cbf6d2-ab7d-404e-fe8b-ec81aeb4fdf1"
      },
      "execution_count": 502,
      "outputs": [
        {
          "output_type": "stream",
          "name": "stdout",
          "text": [
            "Executando a consulta:\n",
            "+--------+----------+--------+------------------+\n",
            "|CDCOOPER|DTBASE    |INDEBCRE|MEDIA_LANCAMENTOS |\n",
            "+--------+----------+--------+------------------+\n",
            "|1       |13/09/2021|C       |789.2087912087912 |\n",
            "|1       |13/09/2021|D       |361.8764940239044 |\n",
            "|1       |14/09/2021|C       |3877.5            |\n",
            "|1       |14/09/2021|D       |441.39830508474574|\n",
            "|2       |13/09/2021|C       |51.333333333333336|\n",
            "|3       |14/09/2021|D       |98392.55932203389 |\n",
            "|3       |14/09/2021|C       |17961.66153846154 |\n",
            "|5       |14/09/2021|D       |525.2             |\n",
            "|5       |14/09/2021|C       |77.5              |\n",
            "|7       |13/09/2021|D       |40.0              |\n",
            "|7       |14/09/2021|D       |624.75            |\n",
            "|9       |14/09/2021|D       |37.5              |\n",
            "|10      |13/09/2021|D       |10.0              |\n",
            "|10      |13/09/2021|C       |NULL              |\n",
            "|11      |13/09/2021|C       |1790.0            |\n",
            "|11      |13/09/2021|D       |7.5               |\n",
            "|11      |14/09/2021|D       |700.0             |\n",
            "|12      |13/09/2021|D       |115.0             |\n",
            "|13      |14/09/2021|C       |5064.0            |\n",
            "|13      |14/09/2021|D       |NULL              |\n",
            "+--------+----------+--------+------------------+\n",
            "only showing top 20 rows\n",
            "\n"
          ]
        }
      ]
    },
    {
      "cell_type": "markdown",
      "source": [
        "# Python"
      ],
      "metadata": {
        "id": "khY76OXQD09w"
      }
    },
    {
      "cell_type": "markdown",
      "source": [
        "Escreva uma função Python que recebe duas strings no formato \"YYYY-MM-DD\",\n",
        "converte para datas e retorna a diferença em dias entre essas datas.\n",
        "\n",
        "Teste sua função usando as seguintes datas: \"2022-01-01\" e \"2022-03-15\".\n",
        "Imprima o resultado na forma de uma mensagem usando f-string, com o seguinte\n",
        "texto: \"A diferença em dias entre as datas é: X\" (onde X é a diferença calculada)."
      ],
      "metadata": {
        "id": "-d0-IOSeD6WC"
      }
    },
    {
      "cell_type": "code",
      "source": [
        "# Diferença entre datas\n",
        "def diferenca_em_dias(data1: str, data2: str) -> int:\n",
        "    return abs((datetime.strptime(data2, \"%Y-%m-%d\") - datetime.strptime(data1, \"%Y-%m-%d\")).days)\n",
        "\n",
        "# Teste\n",
        "print(f\"A diferença entre as datas é: {diferenca_em_dias('2022-01-01', '2022-03-15')} dias\")\n",
        "\n"
      ],
      "metadata": {
        "colab": {
          "base_uri": "https://localhost:8080/"
        },
        "id": "Noc7g7O5D0Y6",
        "outputId": "6725c31f-083a-4227-ca85-d52e0c6cafa6"
      },
      "execution_count": 503,
      "outputs": [
        {
          "output_type": "stream",
          "name": "stdout",
          "text": [
            "A diferença entre as datas é: 73 dias\n"
          ]
        }
      ]
    },
    {
      "cell_type": "markdown",
      "source": [
        "Crie um array chamado 'numeros' contendo os números de 1 a 5 e imprima o\n",
        "array.\n",
        "Depois imprima apenas os números ímpares do array, no final adicione o\n",
        "número 6 no final do array 'numeros'."
      ],
      "metadata": {
        "id": "Jptrz6D1EsZO"
      }
    },
    {
      "cell_type": "code",
      "source": [
        "# Criando o array com números de 1 a 5\n",
        "numeros = [1, 2, 3, 4, 5]\n",
        "\n",
        "# Imprimindo o array completo\n",
        "print(\"Array completo:\", numeros)"
      ],
      "metadata": {
        "colab": {
          "base_uri": "https://localhost:8080/"
        },
        "id": "IS0P8V40EwFs",
        "outputId": "2302ff9f-2155-4b26-c87d-f84b0c4b2360"
      },
      "execution_count": 504,
      "outputs": [
        {
          "output_type": "stream",
          "name": "stdout",
          "text": [
            "Array completo: [1, 2, 3, 4, 5]\n"
          ]
        }
      ]
    },
    {
      "cell_type": "code",
      "source": [
        "# Filtrando apenas os números ímpares\n",
        "numeros_impares = [num for num in numeros if num % 2 != 0]\n",
        "print(\"Números ímpares:\", numeros_impares)"
      ],
      "metadata": {
        "colab": {
          "base_uri": "https://localhost:8080/"
        },
        "id": "Pzgc87v4FF2y",
        "outputId": "f013edfa-24b9-49cd-824b-fe480ec6dacb"
      },
      "execution_count": 505,
      "outputs": [
        {
          "output_type": "stream",
          "name": "stdout",
          "text": [
            "Números ímpares: [1, 3, 5]\n"
          ]
        }
      ]
    },
    {
      "cell_type": "code",
      "source": [
        "# Adicionando o número 6 ao final do array\n",
        "numeros.append(6)"
      ],
      "metadata": {
        "id": "E525LnhSFLXZ"
      },
      "execution_count": 506,
      "outputs": []
    },
    {
      "cell_type": "code",
      "source": [
        "# Imprimindo o array atualizado\n",
        "print(\"Array atualizado:\", numeros)"
      ],
      "metadata": {
        "colab": {
          "base_uri": "https://localhost:8080/"
        },
        "id": "JK24heMMFP0J",
        "outputId": "d749c03d-f87a-42d1-9ad0-051b09d2f272"
      },
      "execution_count": 507,
      "outputs": [
        {
          "output_type": "stream",
          "name": "stdout",
          "text": [
            "Array atualizado: [1, 2, 3, 4, 5, 6]\n"
          ]
        }
      ]
    },
    {
      "cell_type": "markdown",
      "source": [
        "Considere a tabela abaixo:\n",
        "\n",
        "Nome Idade Nota\n",
        "\n",
        "Maria 12 8,5\n",
        "\n",
        "José 11 7,3\n",
        "\n",
        "Aline 12 9,8\n",
        "\n",
        "a) Monte o comando em pyspark que cria um dataframe com as seguintes\n",
        "colunas: \"nome\" (string), \"idade\" (integer) e \"nota\" (double).\n",
        "\n",
        "b) Informe o comando pyspark que executa uma consulta para selecionar\n",
        "apenas as colunas \"nome\" e \"nota\" do dataframe."
      ],
      "metadata": {
        "id": "6t1Zm8XHFYTq"
      }
    },
    {
      "cell_type": "markdown",
      "source": [
        "a)"
      ],
      "metadata": {
        "id": "wdHRANC5Gbah"
      }
    },
    {
      "cell_type": "code",
      "source": [
        "# Definir o esquema do DataFrame\n",
        "schema = StructType([\n",
        "    StructField(\"nome\", StringType(), True),\n",
        "    StructField(\"idade\", IntegerType(), True),\n",
        "    StructField(\"nota\", DoubleType(), True)\n",
        "])"
      ],
      "metadata": {
        "id": "eTScd0iLFgP7"
      },
      "execution_count": 508,
      "outputs": []
    },
    {
      "cell_type": "code",
      "source": [
        "# Criar os dados\n",
        "dados = [(\"Maria\", 12, 8.5), (\"José\", 11, 7.3), (\"Aline\", 12, 9.8)]"
      ],
      "metadata": {
        "id": "JZbZfObpGQ7v"
      },
      "execution_count": 509,
      "outputs": []
    },
    {
      "cell_type": "code",
      "source": [
        "# Criar o DataFrame\n",
        "df = spark.createDataFrame(dados, schema=schema)"
      ],
      "metadata": {
        "id": "pT6vhkU1GWIS"
      },
      "execution_count": 510,
      "outputs": []
    },
    {
      "cell_type": "code",
      "source": [
        "# Exibir o DataFrame\n",
        "df.show()"
      ],
      "metadata": {
        "colab": {
          "base_uri": "https://localhost:8080/"
        },
        "id": "jborZD8mGdZp",
        "outputId": "8f0cd420-0d03-4f57-9090-b221bf30e882"
      },
      "execution_count": 511,
      "outputs": [
        {
          "output_type": "stream",
          "name": "stdout",
          "text": [
            "+-----+-----+----+\n",
            "| nome|idade|nota|\n",
            "+-----+-----+----+\n",
            "|Maria|   12| 8.5|\n",
            "| José|   11| 7.3|\n",
            "|Aline|   12| 9.8|\n",
            "+-----+-----+----+\n",
            "\n"
          ]
        }
      ]
    },
    {
      "cell_type": "markdown",
      "source": [
        "b)"
      ],
      "metadata": {
        "id": "u4os4ATWGgfz"
      }
    },
    {
      "cell_type": "code",
      "source": [
        "df.select(\"nome\", \"nota\").show()"
      ],
      "metadata": {
        "colab": {
          "base_uri": "https://localhost:8080/"
        },
        "id": "geNTYug2Ghar",
        "outputId": "e69ac0cd-dbcd-4016-bb60-bebaba678e0a"
      },
      "execution_count": 512,
      "outputs": [
        {
          "output_type": "stream",
          "name": "stdout",
          "text": [
            "+-----+----+\n",
            "| nome|nota|\n",
            "+-----+----+\n",
            "|Maria| 8.5|\n",
            "| José| 7.3|\n",
            "|Aline| 9.8|\n",
            "+-----+----+\n",
            "\n"
          ]
        }
      ]
    }
  ]
}